{
 "cells": [
  {
   "cell_type": "markdown",
   "metadata": {},
   "source": [
    "# Message Passing Neural Networks\n",
    "\n",
    "Supplementary resource from the Presentation Introduction to Graph Representation Learning (Timothy Lee)"
   ]
  },
  {
   "cell_type": "code",
   "execution_count": 29,
   "metadata": {},
   "outputs": [],
   "source": [
    "import torch\n",
    "import torch.nn.functional as F"
   ]
  },
  {
   "cell_type": "markdown",
   "metadata": {},
   "source": [
    "### General MPNN Implementation"
   ]
  },
  {
   "cell_type": "code",
   "execution_count": 133,
   "metadata": {},
   "outputs": [],
   "source": [
    "# This class defines one layer of the basic GNN model\n",
    "class MPNNconv(torch.nn.Module):\n",
    "    def __init__(self, in_channels, out_channels, normalize=False, self_loops=False):\n",
    "        super(MPNNconv, self).__init__()\n",
    "        self.W_self = torch.nn.Parameter(torch.Tensor(in_channels, out_channels))\n",
    "        self.W_neigh = torch.nn.Parameter(torch.Tensor(in_channels, out_channels))\n",
    "        self.b = torch.nn.Parameter(torch.Tensor(out_channels))\n",
    "        self.reset_parameters()\n",
    "        \n",
    "        # extra parameters\n",
    "        self.normalize = normalize\n",
    "        self.self_loops = self_loops\n",
    "    \n",
    "    def reset_parameters(self):\n",
    "        torch.nn.init.xavier_uniform_(self.W_self)\n",
    "        torch.nn.init.xavier_uniform_(self.W_neigh)\n",
    "        torch.nn.init.zeros_(self.b)\n",
    "    \n",
    "    def forward(self, A, h):\n",
    "        # A: adjacency matrix (v x v)\n",
    "        # h: node representation (v x d)\n",
    "        \n",
    "        if self.normalize:\n",
    "            # Compute D^(-1/2)\n",
    "            D = torch.diag(torch.sum(A, dim=1))\n",
    "            D_inv = torch.inverse(D)\n",
    "            \n",
    "            A = torch.matmul(D_inv, A)\n",
    "        \n",
    "        H = None\n",
    "        if self.self_loops:\n",
    "            H = torch.matmul(torch.matmul(A, h), self.W_neigh) + self.b\n",
    "        else:\n",
    "            # matrix-level feed-forward operation\n",
    "            H = torch.matmul(h, self.W_self) + torch.matmul(torch.matmul(A, h), self.W_neigh) + self.b\n",
    "        \n",
    "        # element-wise non-linearity\n",
    "        H = F.relu(H)\n",
    "        \n",
    "        return H\n",
    "\n",
    "class GCNConv(torch.nn.Module):\n",
    "    def __init__(self, in_channels, out_channels):\n",
    "        super(GCNConv, self).__init__()\n",
    "        self.W = torch.nn.Parameter(torch.Tensor(in_channels, out_channels))\n",
    "        self.b = torch.nn.Parameter(torch.Tensor(out_channels))\n",
    "        self.reset_parameters()\n",
    "    \n",
    "    def reset_parameters(self):\n",
    "        torch.nn.init.xavier_uniform_(self.W)\n",
    "        torch.nn.init.zeros_(self.b)\n",
    "    \n",
    "    def forward(self, A, h):\n",
    "        # A: adjacency matrix (v x v)\n",
    "        # h: node representation (v x d)\n",
    "        \n",
    "        D_inv_sqrt = torch.diag(torch.pow(torch.sum(A, dim=1), -0.5))\n",
    "        A = torch.matmul(torch.matmul(D_inv_sqrt, A), D_inv_sqrt)\n",
    "        \n",
    "        H = torch.matmul(torch.matmul(A, h), self.W) + self.b\n",
    "        \n",
    "        # element-wise non-linearity\n",
    "        H = F.relu(H)\n",
    "        \n",
    "        return H"
   ]
  },
  {
   "cell_type": "code",
   "execution_count": 134,
   "metadata": {},
   "outputs": [],
   "source": [
    "class GNN(torch.nn.Module):\n",
    "    def __init__(self, in_channels, hidden_channels, out_channels, normalize=False, self_loops=False, conv_type='MPNN'):\n",
    "        super(GNN, self).__init__()\n",
    "        if conv_type == 'MPNN':\n",
    "            self.conv1 = MPNNconv(in_channels, hidden_channels, normalize, self_loops)\n",
    "            self.conv2 = MPNNconv(hidden_channels, out_channels, normalize, self_loops)\n",
    "        elif conv_type == 'GCN':\n",
    "            self.conv1 = GCNConv(in_channels, hidden_channels)\n",
    "            self.conv2 = GCNConv(hidden_channels, out_channels)\n",
    "        else:\n",
    "            raise ValueError('Unknown conv type')\n",
    "        \n",
    "        self.self_loops = self_loops\n",
    "    \n",
    "    def forward(self, A, X):\n",
    "        if self.self_loops:\n",
    "            I = torch.eye(A.size(0), device=A.device)\n",
    "            A = A + I\n",
    "        h1 = self.conv1(A, X)\n",
    "        h2 = self.conv2(A, h1)\n",
    "        \n",
    "        return h2"
   ]
  },
  {
   "cell_type": "markdown",
   "metadata": {},
   "source": [
    "### Training with Citation Networks"
   ]
  },
  {
   "cell_type": "code",
   "execution_count": 31,
   "metadata": {},
   "outputs": [],
   "source": [
    "from torch_geometric.data import Data\n",
    "from torch_geometric.datasets import Planetoid\n",
    "import torch_geometric.transforms as T\n",
    "\n",
    "from torch_geometric.utils import to_dense_adj"
   ]
  },
  {
   "cell_type": "code",
   "execution_count": 33,
   "metadata": {},
   "outputs": [
    {
     "name": "stdout",
     "output_type": "stream",
     "text": [
      "number of classes:  7\n",
      "number of nodes (|V|):  2708\n",
      "number of node features (|d|):  1433\n"
     ]
    },
    {
     "name": "stderr",
     "output_type": "stream",
     "text": [
      "/opt/anaconda3/envs/pyg/lib/python3.10/site-packages/torch_geometric/data/in_memory_dataset.py:300: UserWarning: It is not recommended to directly access the internal storage format `data` of an 'InMemoryDataset'. If you are absolutely certain what you are doing, access the internal storage via `InMemoryDataset._data` instead to suppress this warning. Alternatively, you can access stacked individual attributes of every graph via `dataset.{attr_name}`.\n",
      "  warnings.warn(msg)\n"
     ]
    },
    {
     "data": {
      "text/plain": [
       "Data(x=[2708, 1433], edge_index=[2, 10556], y=[2708], train_mask=[2708], val_mask=[2708], test_mask=[2708])"
      ]
     },
     "execution_count": 33,
     "metadata": {},
     "output_type": "execute_result"
    }
   ],
   "source": [
    "dataset = Planetoid(root='datasets', name='Cora')\n",
    "# dataset.transform = T.NormalizeFeatures()\n",
    "\n",
    "print('number of classes: ', dataset.num_classes)\n",
    "print('number of nodes (|V|): ', dataset.data.num_nodes)\n",
    "print('number of node features (|d|): ', dataset.num_node_features)\n",
    "\n",
    "data = dataset[0]\n",
    "data"
   ]
  },
  {
   "cell_type": "code",
   "execution_count": 137,
   "metadata": {},
   "outputs": [
    {
     "name": "stdout",
     "output_type": "stream",
     "text": [
      "1.9460290670394897\n",
      "1.3367527723312378\n",
      "0.6376906633377075\n",
      "0.2751449644565582\n",
      "0.13458026945590973\n",
      "0.07771994173526764\n",
      "0.05084258317947388\n",
      "0.03611980006098747\n",
      "0.02713708020746708\n",
      "0.021219292655587196\n"
     ]
    }
   ],
   "source": [
    "# torch dataset comes with a sparse edge index so we are converting it to an adjacency matrix (for notational convenience)\n",
    "A = to_dense_adj(data.edge_index)[0]\n",
    "X = data.x\n",
    "\n",
    "model = GNN(in_channels=dataset.num_node_features, hidden_channels=64, out_channels=dataset.num_classes, normalize=True, self_loops=True, conv_type='GCN')\n",
    "\n",
    "# training loop\n",
    "optimizer = torch.optim.Adam(model.parameters(), lr=0.001)\n",
    "criterion = torch.nn.CrossEntropyLoss()\n",
    "num_epochs = 200\n",
    "\n",
    "for epoch in range(num_epochs):\n",
    "    optimizer.zero_grad()\n",
    "    \n",
    "    out = model(A, X)\n",
    "    loss = criterion(out[data.train_mask], data.y[data.train_mask])\n",
    "    \n",
    "    loss.backward()\n",
    "    optimizer.step()\n",
    "    if epoch % (num_epochs / 10) == 0:\n",
    "        print(loss.item())"
   ]
  },
  {
   "cell_type": "code",
   "execution_count": 138,
   "metadata": {},
   "outputs": [
    {
     "name": "stdout",
     "output_type": "stream",
     "text": [
      "accuracy:  78.1 %\n"
     ]
    }
   ],
   "source": [
    "model.eval()\n",
    "_, pred = model(A, X).max(dim=1)\n",
    "correct = float(pred[data.test_mask].eq(data.y[data.test_mask]).sum().item())\n",
    "acc = correct / data.test_mask.sum().item()\n",
    "acc = round(acc * 100, 3)\n",
    "\n",
    "print('accuracy: ', acc, \"%\")"
   ]
  }
 ],
 "metadata": {
  "kernelspec": {
   "display_name": "pyg",
   "language": "python",
   "name": "python3"
  },
  "language_info": {
   "codemirror_mode": {
    "name": "ipython",
    "version": 3
   },
   "file_extension": ".py",
   "mimetype": "text/x-python",
   "name": "python",
   "nbconvert_exporter": "python",
   "pygments_lexer": "ipython3",
   "version": "3.10.14"
  }
 },
 "nbformat": 4,
 "nbformat_minor": 2
}
