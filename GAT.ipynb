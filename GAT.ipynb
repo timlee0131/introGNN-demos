{
 "cells": [
  {
   "cell_type": "markdown",
   "metadata": {},
   "source": [
    "# Graph Attention Network (GAT)\n",
    "Code implementation of GAT from the paper (https://arxiv.org/abs/1710.10903) by Kipf and Welling\n",
    "\n",
    "Additional resources:\n",
    "- author's blogpost: https://petar-v.com/GAT/\n",
    "- torch-geometric implementation: https://pytorch-geometric.readthedocs.io/en/latest/generated/torch_geometric.nn.models.GAT.html"
   ]
  },
  {
   "cell_type": "code",
   "execution_count": 2,
   "metadata": {},
   "outputs": [],
   "source": [
    "import torch\n",
    "import torch.nn.functional as F"
   ]
  },
  {
   "cell_type": "code",
   "execution_count": 82,
   "metadata": {},
   "outputs": [],
   "source": [
    "class GATConv(torch.nn.Module):\n",
    "    def __init__(self, in_channels, out_channels, dropout=0.6, alpha=0.2, concat=True):\n",
    "        super(GATConv, self).__init__()\n",
    "        self.in_channels = in_channels\n",
    "        self.out_channels = out_channels\n",
    "        self.dropout = dropout\n",
    "        self.alpha = alpha\n",
    "        self.concat = concat\n",
    "\n",
    "        self.W = torch.nn.Parameter(torch.Tensor(in_channels, out_channels))\n",
    "        self.a = torch.nn.Parameter(torch.Tensor(2*out_channels, 1))\n",
    "        self.b = torch.nn.Parameter(torch.Tensor(out_channels))\n",
    "        \n",
    "        # leakyReLU was used in the original GAT paper\n",
    "        self.leakyrelu = torch.nn.LeakyReLU(self.alpha)\n",
    "        \n",
    "        self.reset_parameters()\n",
    "    \n",
    "    def forward(self, A, H):        \n",
    "        Wh = H @ self.W\n",
    "        Whu = Wh @ self.a[:self.out_channels]\n",
    "        Whv = Wh @ self.a[self.out_channels:]\n",
    "        # broadcast add\n",
    "        e = Whu + Whv.T\n",
    "        e = self.leakyrelu(e)\n",
    "        \n",
    "        zero_vec = -9e15 * torch.ones_like(e)\n",
    "        attention = torch.where(A > 0, e, zero_vec)\n",
    "        attention = F.softmax(attention, dim=1)\n",
    "        attention = F.dropout(attention, self.dropout, training=self.training)\n",
    "        \n",
    "        H_prime = attention @ Wh\n",
    "        \n",
    "        if self.concat:\n",
    "            return F.elu(H_prime)\n",
    "        else:\n",
    "            return H_prime\n",
    "    \n",
    "    def reset_parameters(self):\n",
    "        torch.nn.init.xavier_uniform_(self.W)\n",
    "        torch.nn.init.xavier_uniform_(self.a)\n",
    "        torch.nn.init.zeros_(self.b)\n",
    "\n",
    "class GAT(torch.nn.Module):\n",
    "    def __init__(self, in_channels, hidden_channels, out_channels, dropout=0.6, alpha=0.2, num_heads=4):\n",
    "        super(GAT, self).__init__()\n",
    "        self.in_channels = in_channels\n",
    "        self.hidden_channels = hidden_channels\n",
    "        self.out_channels = out_channels\n",
    "        self.dropout = dropout\n",
    "        self.alpha = alpha\n",
    "        self.num_heads = num_heads\n",
    "        \n",
    "        self.attention_heads = [GATConv(in_channels, hidden_channels, dropout, alpha) for _ in range(num_heads)]\n",
    "        self.attention_out = GATConv(hidden_channels*num_heads, out_channels, dropout, alpha, concat=False)\n",
    "    \n",
    "    def forward(self, A, H):\n",
    "        H = F.dropout(H, self.dropout, training=self.training)\n",
    "        out = torch.cat([head(A, H) for head in self.attention_heads], dim=1)\n",
    "        out = F.elu(self.attention_out(A, out))\n",
    "        return F.log_softmax(out, dim=1)\n",
    "        "
   ]
  },
  {
   "cell_type": "code",
   "execution_count": 49,
   "metadata": {},
   "outputs": [],
   "source": [
    "from torch_geometric.data import Data\n",
    "from torch_geometric.datasets import Planetoid\n",
    "import torch_geometric.transforms as T\n",
    "\n",
    "from torch_geometric.utils import to_dense_adj"
   ]
  },
  {
   "cell_type": "code",
   "execution_count": 66,
   "metadata": {},
   "outputs": [
    {
     "name": "stdout",
     "output_type": "stream",
     "text": [
      "number of classes:  7\n",
      "number of nodes (|V|):  2708\n",
      "number of node features (|d|):  1433\n"
     ]
    }
   ],
   "source": [
    "dataset = Planetoid(root='datasets', name='Cora')\n",
    "# dataset.transform = T.NormalizeFeatures()\n",
    "\n",
    "print('number of classes: ', dataset.num_classes)\n",
    "print('number of nodes (|V|): ', dataset.data.num_nodes)\n",
    "print('number of node features (|d|): ', dataset.num_node_features)\n",
    "\n",
    "data = dataset[0]"
   ]
  },
  {
   "cell_type": "code",
   "execution_count": 87,
   "metadata": {},
   "outputs": [
    {
     "name": "stdout",
     "output_type": "stream",
     "text": [
      "1.954589605331421\n",
      "1.8099957704544067\n",
      "1.6648118495941162\n",
      "1.5188413858413696\n",
      "1.4498655796051025\n",
      "1.3341245651245117\n",
      "1.1727324724197388\n",
      "1.2138220071792603\n",
      "1.0909379720687866\n",
      "1.077467918395996\n"
     ]
    }
   ],
   "source": [
    "# torch dataset comes with a sparse edge index so we are converting it to an adjacency matrix (for notational convenience)\n",
    "A = to_dense_adj(data.edge_index)[0]\n",
    "X = data.x\n",
    "\n",
    "model = GAT(dataset.num_node_features, 64, dataset.num_classes, dropout=0.4, alpha=0.2, num_heads=8)\n",
    "\n",
    "# training loop\n",
    "optimizer = torch.optim.Adam(model.parameters(), lr=0.001)\n",
    "criterion = torch.nn.CrossEntropyLoss()\n",
    "num_epochs = 200\n",
    "\n",
    "for epoch in range(num_epochs):\n",
    "    optimizer.zero_grad()\n",
    "    \n",
    "    out = model(A, X)\n",
    "    loss = criterion(out[data.train_mask], data.y[data.train_mask])\n",
    "    \n",
    "    loss.backward()\n",
    "    optimizer.step()\n",
    "    if epoch % (num_epochs / 10) == 0:\n",
    "        print(loss.item())"
   ]
  },
  {
   "cell_type": "code",
   "execution_count": 88,
   "metadata": {},
   "outputs": [
    {
     "name": "stdout",
     "output_type": "stream",
     "text": [
      "accuracy:  76.6 %\n"
     ]
    }
   ],
   "source": [
    "model.eval()\n",
    "_, pred = model(A, X).max(dim=1)\n",
    "correct = float(pred[data.test_mask].eq(data.y[data.test_mask]).sum().item())\n",
    "acc = correct / data.test_mask.sum().item()\n",
    "acc = round(acc * 100, 3)\n",
    "\n",
    "print('accuracy: ', acc, \"%\")"
   ]
  }
 ],
 "metadata": {
  "kernelspec": {
   "display_name": "pyg",
   "language": "python",
   "name": "python3"
  },
  "language_info": {
   "codemirror_mode": {
    "name": "ipython",
    "version": 3
   },
   "file_extension": ".py",
   "mimetype": "text/x-python",
   "name": "python",
   "nbconvert_exporter": "python",
   "pygments_lexer": "ipython3",
   "version": "3.10.14"
  }
 },
 "nbformat": 4,
 "nbformat_minor": 2
}
